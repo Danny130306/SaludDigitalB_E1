{
 "cells": [
  {
   "cell_type": "code",
   "execution_count": 1,
   "id": "97a53562",
   "metadata": {},
   "outputs": [
    {
     "name": "stdout",
     "output_type": "stream",
     "text": [
      "Carpeta creada en: c:\\Users\\sdfhe\\documents\\SaludDigitalB_E1\\Scripts\\../data\n",
      "Carpeta creada en: c:\\Users\\sdfhe\\documents\\SaludDigitalB_E1\\Scripts\\../database\n",
      "Carpeta creada en: c:\\Users\\sdfhe\\documents\\SaludDigitalB_E1\\Scripts\\../reports\n"
     ]
    }
   ],
   "source": [
    "import os\n",
    "\n",
    "# Lista de las primeras 3 carpetas a crear\n",
    "primeras_carpetas = [\"../data\", \"../database\", \"../reports\"]\n",
    "\n",
    "for carpeta in primeras_carpetas:\n",
    "    ruta_carpeta = os.path.join(os.getcwd(), carpeta)\n",
    "    if not os.path.exists(ruta_carpeta):\n",
    "        os.makedirs(ruta_carpeta)\n",
    "        print(f\"Carpeta creada en: {ruta_carpeta}\")\n",
    "    else:\n",
    "        print(f\"La carpeta '{carpeta}' ya existe.\")"
   ]
  },
  {
   "cell_type": "code",
   "execution_count": 2,
   "id": "944e93c6",
   "metadata": {},
   "outputs": [
    {
     "name": "stdout",
     "output_type": "stream",
     "text": [
      "Carpeta creada en: c:\\Users\\sdfhe\\documents\\SaludDigitalB_E1\\Scripts\\..\\ci\n",
      "Carpeta creada en: c:\\Users\\sdfhe\\documents\\SaludDigitalB_E1\\Scripts\\..\\git\n",
      "Carpeta creada en: c:\\Users\\sdfhe\\documents\\SaludDigitalB_E1\\Scripts\\..\\scripts\n"
     ]
    }
   ],
   "source": [
    "\n",
    "from pathlib import Path\n",
    "\n",
    "# Lista del resto de carpetas a crear\n",
    "otras_carpetas = [\"../ci\", \"../git\", \"../scripts\"]\n",
    "\n",
    "for carpeta in otras_carpetas:\n",
    "    ruta_carpeta = Path.cwd() / carpeta\n",
    "    ruta_carpeta.mkdir(parents=True, exist_ok=True)\n",
    "    print(f\"Carpeta creada en: {ruta_carpeta}\")\n"
   ]
  }
 ],
 "metadata": {
  "kernelspec": {
   "display_name": "myenv",
   "language": "python",
   "name": "python3"
  },
  "language_info": {
   "codemirror_mode": {
    "name": "ipython",
    "version": 3
   },
   "file_extension": ".py",
   "mimetype": "text/x-python",
   "name": "python",
   "nbconvert_exporter": "python",
   "pygments_lexer": "ipython3",
   "version": "3.10.0"
  }
 },
 "nbformat": 4,
 "nbformat_minor": 5
}
