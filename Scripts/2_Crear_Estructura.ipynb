{
 "cells": [
  {
   "cell_type": "code",
   "execution_count": 1,
   "id": "89f046bf",
   "metadata": {},
   "outputs": [
    {
     "name": "stdout",
     "output_type": "stream",
     "text": [
      "Archivo 'base.csv' creado correctamente.\n"
     ]
    }
   ],
   "source": [
    "from pathlib import Path\n",
    "\n",
    "data_path = Path.cwd() / \"data\"\n",
    "data_path.mkdir(parents=True, exist_ok=True)\n",
    "archivo_csv = data_path / \"base.csv\"\n",
    "if not archivo_csv.exists():\n",
    "    with open(archivo_csv, \"w\", encoding=\"utf-8\") as f:\n",
    "        f.write(\"id_paciente,nombre,edad,sexo,distrito,servicio,fecha_atencion,monto\\n\")\n",
    "    print(\"Archivo 'base.csv' creado correctamente.\")\n",
    "else:\n",
    "    print(\"El archivo 'base.csv' ya existe.\")"
   ]
  }
 ],
 "metadata": {
  "kernelspec": {
   "display_name": "myenv",
   "language": "python",
   "name": "python3"
  },
  "language_info": {
   "codemirror_mode": {
    "name": "ipython",
    "version": 3
   },
   "file_extension": ".py",
   "mimetype": "text/x-python",
   "name": "python",
   "nbconvert_exporter": "python",
   "pygments_lexer": "ipython3",
   "version": "3.10.0"
  }
 },
 "nbformat": 4,
 "nbformat_minor": 5
}
