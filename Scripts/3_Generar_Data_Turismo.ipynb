{
 "cells": [
  {
   "cell_type": "code",
   "execution_count": 1,
   "id": "7d8349ea",
   "metadata": {},
   "outputs": [
    {
     "name": "stdout",
     "output_type": "stream",
     "text": [
      "Archivo generado correctamente en: c:\\Users\\sdfhe\\documents\\SaludDigitalB_E1\\Scripts\\..\\data\\pacientes.csv\n",
      "Total de registros: 3000\n"
     ]
    }
   ],
   "source": [
    "from pathlib import Path\n",
    "import csv\n",
    "import random\n",
    "from datetime import datetime, timedelta\n",
    "\n",
    "# Crear carpeta \"data\" si no existe\n",
    "data_path = Path.cwd() / \"../data\"\n",
    "data_path.mkdir(parents=True, exist_ok=True)\n",
    "\n",
    "# Definir archivo CSV\n",
    "csv_file = data_path / \"pacientes.csv\"\n",
    "\n",
    "# Listas base de datos simulados\n",
    "nombres = [\"Ana Torres\", \"Luis Pérez\", \"Carlos Díaz\", \"María López\", \"Pedro Ruiz\", \"Lucía Gómez\", \"Jorge Salas\"]\n",
    "sexos = [\"F\", \"M\", \"NA\", None]\n",
    "distritos = [\"Miraflores\", \"Surco\", \"San Borja\", \"San Isidro\", \"La Molina\", \"NA\", None]\n",
    "servicios = [\"Odontología\", \"Pediatría\", \"Cardiología\", \"Laboratorio\", \"Emergencia\", \"NA\", None]\n",
    "\n",
    "def generar_fecha():\n",
    "    \"\"\"Genera una fecha aleatoria entre 2023 y 2025\"\"\"\n",
    "    inicio = datetime(2023, 1, 1)\n",
    "    fin = datetime(2025, 1, 1)\n",
    "    delta = fin - inicio\n",
    "    fecha_random = inicio + timedelta(days=random.randint(0, delta.days))\n",
    "    return fecha_random.strftime(\"%Y-%m-%d\")\n",
    "\n",
    "# Crear 3000 registros simulados\n",
    "registros = []\n",
    "for i in range(1, 3001):\n",
    "    id_paciente = f\"P{str(i).zfill(4)}\"\n",
    "    nombre = random.choice(nombres)\n",
    "    edad = random.choice([random.randint(0, 90), \"NA\", None])\n",
    "    sexo = random.choice(sexos)\n",
    "    distrito = random.choice(distritos)\n",
    "    servicio = random.choice(servicios)\n",
    "    fecha_atencion = generar_fecha()\n",
    "    monto = random.choice([round(random.uniform(50, 500), 2), \"NA\", None])\n",
    "    registros.append([id_paciente, nombre, edad, sexo, distrito, servicio, fecha_atencion, monto])\n",
    "\n",
    "# Escribir en el archivo CSV\n",
    "with open(csv_file, mode=\"w\", newline=\"\", encoding=\"utf-8\") as file:\n",
    "    writer = csv.writer(file)\n",
    "    writer.writerow([\"id_paciente\", \"nombre\", \"edad\", \"sexo\", \"distrito\", \"servicio\", \"fecha_atencion\", \"monto\"])\n",
    "    writer.writerows(registros)\n",
    "\n",
    "print(f\"Archivo generado correctamente en: {csv_file}\")\n",
    "print(f\"Total de registros: {len(registros)}\")"
   ]
  }
 ],
 "metadata": {
  "kernelspec": {
   "display_name": "myenv",
   "language": "python",
   "name": "python3"
  },
  "language_info": {
   "codemirror_mode": {
    "name": "ipython",
    "version": 3
   },
   "file_extension": ".py",
   "mimetype": "text/x-python",
   "name": "python",
   "nbconvert_exporter": "python",
   "pygments_lexer": "ipython3",
   "version": "3.10.0"
  }
 },
 "nbformat": 4,
 "nbformat_minor": 5
}
